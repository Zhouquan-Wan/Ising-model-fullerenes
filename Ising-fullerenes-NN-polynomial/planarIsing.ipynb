{
 "cells": [
  {
   "cell_type": "markdown",
   "id": "b86fb9e2-6618-41ef-9de7-7d6498df791a",
   "metadata": {},
   "source": [
    "## build the cpp project"
   ]
  },
  {
   "cell_type": "markdown",
   "id": "a009e69c-d4a1-4cd6-9ec2-75c64ea35748",
   "metadata": {},
   "source": [
    "make sure the boost library installation directory in the CMakeLists.txt, and\n",
    "```bash\n",
    "mkdir build && cd build\n",
    "cmake ..\n",
    "make\n",
    "```"
   ]
  },
  {
   "cell_type": "code",
   "execution_count": 1,
   "id": "4a17b000-e394-46c2-80b8-9b7cff2f7be8",
   "metadata": {},
   "outputs": [
    {
     "name": "stdout",
     "output_type": "stream",
     "text": [
      "\n",
      "Welcome to Nemo version 0.35.3\n",
      "\n",
      "Nemo comes with absolutely no warranty whatsoever\n",
      "\n"
     ]
    }
   ],
   "source": [
    "using LinearAlgebra, SkewLinearAlgebra\n",
    "using GenericTensorNetworks, Graphs\n",
    "import Nemo\n",
    "using Scanf"
   ]
  },
  {
   "cell_type": "code",
   "execution_count": 2,
   "id": "e812693a-81cb-4836-86e0-99b6ee7105ac",
   "metadata": {},
   "outputs": [],
   "source": [
    "function ordered(a, b)\n",
    "        if a > b\n",
    "            return (b, a)\n",
    "        else\n",
    "            return (a, b)\n",
    "    end\n",
    "end\n",
    "\n",
    "function constructFromFile(fname)\n",
    "    f(x) = parse(Int, x)\n",
    "    fc60 = open(fname, \"r\")\n",
    "    lines = readlines(fc60)\n",
    "    V = f(lines[1])\n",
    "    E = Int(V * 3 / 2)\n",
    "    # edges = list()\n",
    "    edgesInd = Dict()\n",
    "    edgeCount = 1\n",
    "    edgeNneighbor = [[] for i in 1:E]\n",
    "    vNeighbor = [[] for i in 1:V]\n",
    "    for i in 3:length(lines)\n",
    "        vs = zeros(Int, 4)\n",
    "        r, c, x, y, z, vs[1], vs[2], vs[3], vs[4] = @scanf(lines[i], \" %c %lf %lf %lf %d %d %d %d\", Char, Float64, Float64, Float64, Int, Int, Int, Int)\n",
    "        vNeighbor[vs[1]] = vs[2:4]\n",
    "        for i in 1:3\n",
    "            if vs[1+i] > vs[1]\n",
    "                edgesInd[(vs[1], vs[1+i])] = edgeCount\n",
    "                edgeCount += 1\n",
    "            end\n",
    "        end\n",
    "        edges3 = [edgesInd[ordered(vs[1], vs[1+i])] for i in 1:3]\n",
    "        for i in 1:3\n",
    "            append!(edgeNneighbor[edges3[i]], [edges3[(i%3)+1], edges3[((i+1)%3)+1]])\n",
    "        end\n",
    "    end\n",
    "    close(fc60)\n",
    "    return V, E, vNeighbor, edgesInd, edgeNneighbor\n",
    "end\n",
    "\n",
    "function ising_graph_output(fin, fout)\n",
    "    vNum, eNum, vN, eI, eN = constructFromFile(fin);\n",
    "    outfile = open(fout, \"w\")\n",
    "    edgeUsed = Set()\n",
    "    s = string(eNum) * \" \" * string(eNum*2) * \"\\n\"\n",
    "    write(outfile, s)\n",
    "    for i in 1:eNum\n",
    "        eN[i] = eN[i] .- 1\n",
    "        for j in 1:length(eN[i])\n",
    "            e = ordered(i-1, eN[i][j])\n",
    "            if ! (e in edgeUsed)\n",
    "                s = string(i-1) * \" \" * string(eN[i][j]) * \"\\n\"\n",
    "                write(outfile, s)\n",
    "                push!(edgeUsed, e)\n",
    "            end\n",
    "        end\n",
    "    end\n",
    "    close(outfile)\n",
    "end;\n",
    "\n",
    "function constructSkewMat(fname)\n",
    "    infile = open(fname, \"r\")\n",
    "    lines = readlines(infile)\n",
    "    f(x) = parse(Int, x)\n",
    "    V, E = f.(split(lines[1], \" \"))\n",
    "    mat = zeros(BigInt, V, V)\n",
    "    for i in 2:length(lines)\n",
    "        data = f.(split(lines[i], \" \"))\n",
    "        v1, v2 = ordered(data[1], data[2]) .+ 1\n",
    "        sign = 2*data[3] - 1\n",
    "        val = data[4] + 1\n",
    "        mat[v1, v2] = sign*val\n",
    "        mat[v2, v1] = -sign*val\n",
    "    end\n",
    "    close(infile)\n",
    "    return mat\n",
    "end;\n",
    "\n",
    "function linearsys(m, n)\n",
    "    cSwap(x) = CartesianIndex(x.I[2], x.I[1])\n",
    "    A = zeros(BigInt, n, n)\n",
    "    b = zeros(BigInt, n)\n",
    "    c = findall(m .== 2)\n",
    "    a0 = 0\n",
    "    for i in 0:n\n",
    "        for v in c\n",
    "            m[v] = i\n",
    "            m[cSwap(v)] = -i\n",
    "        end\n",
    "        if i == 0\n",
    "            a0 = pfaffian(m)\n",
    "            println(a0)\n",
    "        else\n",
    "            b[i] = pfaffian(m) - a0\n",
    "            A[i, :] = [BigInt(i)^j for j in 1:n]\n",
    "        end\n",
    "    end\n",
    "    return A, b\n",
    "end;\n",
    "\n",
    "function m2replace(m, val)\n",
    "    cSwap(x) = CartesianIndex(x.I[2], x.I[1])\n",
    "    c = findall(m .== 2)\n",
    "    q = BigFloat.(copy(m))\n",
    "    for v in c\n",
    "        q[v] = val\n",
    "        q[cSwap(v)] = -val\n",
    "    end\n",
    "    q\n",
    "end;"
   ]
  },
  {
   "cell_type": "code",
   "execution_count": 3,
   "id": "208dfb5c-ad2b-47ba-8650-aa986ba7fae1",
   "metadata": {},
   "outputs": [],
   "source": [
    "# V = 30\n",
    "# E = 45\n",
    "ising_graph_output(\"fullerene_xyz/C180-0.xyz\", \"temp.in\")"
   ]
  },
  {
   "cell_type": "code",
   "execution_count": 4,
   "id": "ce95c4c6-4b08-49b3-bd7a-6f1d1c6d4cbe",
   "metadata": {},
   "outputs": [
    {
     "name": "stdout",
     "output_type": "stream",
     "text": [
      " 12.202176 seconds (28.03 k allocations: 1.911 MiB, 0.43% compilation time)\n"
     ]
    },
    {
     "data": {
      "text/plain": [
       "Process(`\u001b[4m./build/main\u001b[24m \u001b[4mtemp.in\u001b[24m`, ProcessExited(0))"
      ]
     },
     "execution_count": 4,
     "metadata": {},
     "output_type": "execute_result"
    }
   ],
   "source": [
    "inname = \"temp.in\"\n",
    "p = pipeline(`./build/main $inname`; stdout=\"1.out\")\n",
    "@time run(p)"
   ]
  },
  {
   "cell_type": "code",
   "execution_count": 5,
   "id": "9937d4f6-b155-40d8-a2df-b07da8403bcb",
   "metadata": {},
   "outputs": [
    {
     "data": {
      "text/plain": [
       "(2640, 2640)"
      ]
     },
     "execution_count": 5,
     "metadata": {},
     "output_type": "execute_result"
    }
   ],
   "source": [
    "mat = constructSkewMat(\"1.out\");\n",
    "size(mat)"
   ]
  },
  {
   "cell_type": "markdown",
   "id": "ae52c5c2-7bd2-4e52-a1b6-a6515d491f45",
   "metadata": {},
   "source": [
    "## pfaffian and partition function\n",
    "for $t = \\exp(-\\beta J)$, the pfaffian here can be understood as\n",
    "\n",
    "$$ 2 * \\text{Pf}(\\text{mat}) = g \\times t^{N} + O(t^{N+1})$$\n",
    "\n",
    "where g is the G.S. degeneracy, and $N$ is the number of unsatisfied edges"
   ]
  },
  {
   "cell_type": "code",
   "execution_count": 6,
   "id": "e27d53d3-658f-473e-9275-ae3cac07bdc3",
   "metadata": {},
   "outputs": [
    {
     "name": "stdout",
     "output_type": "stream",
     "text": [
      "219.013501 seconds (22.52 M allocations: 13.753 GiB, 0.97% gc time, 0.17% compilation time)\n"
     ]
    },
    {
     "data": {
      "text/plain": [
       "[6.5365996325895612112846672604590519064166445672505885483027430091230558082541945944915814327051436983278423911702353295084736207590805385533132915404600221422489802964515636975148576050758108154301656954e-8942 +/- 1.59e-9145]"
      ]
     },
     "execution_count": 6,
     "metadata": {},
     "output_type": "execute_result"
    }
   ],
   "source": [
    "R = Nemo.ArbField(1024)\n",
    "RR = Nemo.RealField()\n",
    "t = RR(1e-50)\n",
    "@time pf = Nemo.sqrt( Nemo.det( Nemo.matrix(R, m2replace(mat, t)) ) ) * 2"
   ]
  },
  {
   "cell_type": "markdown",
   "id": "6dcb0bf3-b51e-40f3-9834-5f9f5cc2ba6d",
   "metadata": {},
   "source": [
    "since the numer of unsatisfied edges = 180, \n",
    "\n",
    "180*50 - 8942 = 58\n",
    "\n",
    "therefore g = 6.5366e58"
   ]
  },
  {
   "cell_type": "code",
   "execution_count": 7,
   "id": "29923ffb-ea16-469c-97a5-abf786254823",
   "metadata": {},
   "outputs": [],
   "source": [
    "# # may also use BigFloat, but it seems that Arb is more efficient\n",
    "# setprecision(BigFloat, 512)\n",
    "# t = BigFloat(1e-50)\n",
    "# @time pf = sqrt(det( BigFloat.(m2replace(mat, t))))*2"
   ]
  },
  {
   "cell_type": "markdown",
   "id": "b5a9e57b-1d33-4aa4-a958-51be15657b89",
   "metadata": {},
   "source": [
    "## From genericTensorNetwork, for comparison purpose"
   ]
  },
  {
   "cell_type": "code",
   "execution_count": 8,
   "id": "73b8ddf3-50de-4bde-8f1d-aad99159ffbe",
   "metadata": {},
   "outputs": [],
   "source": [
    "function constructGraph(fname)\n",
    "    infile = open(fname, \"r\")\n",
    "    lines = readlines(infile)\n",
    "    f(x) = parse(Int, x)\n",
    "    V, E = f.(split(lines[1], \" \"))\n",
    "    els = []\n",
    "    for i in 2:length(lines)\n",
    "        data = f.(split(lines[i], \" \"))\n",
    "        v1, v2 = ordered(data[1], data[2]) .+ 1\n",
    "        push!(els, (v1, v2))\n",
    "    end\n",
    "    close(infile)\n",
    "    return SimpleGraph(Edge.(els))\n",
    "end;"
   ]
  },
  {
   "cell_type": "code",
   "execution_count": 10,
   "id": "12657fd2-6ddf-4bc8-883d-46d08612274e",
   "metadata": {},
   "outputs": [
    {
     "data": {
      "text/plain": [
       "{30, 60} undirected simple Int64 graph"
      ]
     },
     "execution_count": 10,
     "metadata": {},
     "output_type": "execute_result"
    }
   ],
   "source": [
    "ising_graph_output(\"fullerene_xyz/C20-Ih.xyz\", \"temp.in\")\n",
    "g = constructGraph(\"temp.in\")"
   ]
  },
  {
   "cell_type": "code",
   "execution_count": 11,
   "id": "daebadd3-768d-4e49-8fab-a8569be22ac9",
   "metadata": {},
   "outputs": [],
   "source": [
    "problem = SpinGlass(g; J=fill(-1, ne(g)));"
   ]
  },
  {
   "cell_type": "code",
   "execution_count": 12,
   "id": "bd8ceea8-9645-4eb8-bde6-0af17a4f344c",
   "metadata": {},
   "outputs": [
    {
     "data": {
      "text/plain": [
       "-20.0ₜ"
      ]
     },
     "execution_count": 12,
     "metadata": {},
     "output_type": "execute_result"
    }
   ],
   "source": [
    "Emin = solve(problem, SizeMin())[]"
   ]
  },
  {
   "cell_type": "code",
   "execution_count": 13,
   "id": "b781345e-10b8-41a9-818b-fe7c9936d7dc",
   "metadata": {},
   "outputs": [
    {
     "name": "stdout",
     "output_type": "stream",
     "text": [
      " 13.891610 seconds (23.12 M allocations: 1.789 GiB, 2.40% gc time, 98.66% compilation time)\n"
     ]
    },
    {
     "data": {
      "text/html": [
       "3251250&#8729;x⁻²⁰ &#43; 22644000&#8729;x⁻¹⁶ &#43; 72487100&#8729;x⁻¹² &#43; 144113280&#8729;x⁻⁸ &#43; 202822170&#8729;x⁻⁴ &#43; 216538624 &#43; 181438800&#8729;x⁴ &#43; 121326720&#8729;x⁸ &#43; 65536580&#8729;x¹² &#43; 28872000&#8729;x¹⁶ &#43; 10468200&#8729;x²⁰ &#43; 3181440&#8729;x²⁴ &#43; 826980&#8729;x²⁸ &#43; 188160&#8729;x³² &#43; 38480&#8729;x³⁶ &#43; 6528&#8729;x⁴⁰ &#43; 1290&#8729;x⁴⁴ &#43; 160&#8729;x⁴⁸ &#43; 60&#8729;x⁵² &#43; 2&#8729;x⁶⁰"
      ],
      "text/latex": [
       "$3251250\\cdot x⁻²⁰ + 22644000\\cdot x⁻¹⁶ + 72487100\\cdot x⁻¹² + 144113280\\cdot x⁻⁸ + 202822170\\cdot x⁻⁴ + 216538624 + 181438800\\cdot x⁴ + 121326720\\cdot x⁸ + 65536580\\cdot x¹² + 28872000\\cdot x¹⁶ + 10468200\\cdot x²⁰ + 3181440\\cdot x²⁴ + 826980\\cdot x²⁸ + 188160\\cdot x³² + 38480\\cdot x³⁶ + 6528\\cdot x⁴⁰ + 1290\\cdot x⁴⁴ + 160\\cdot x⁴⁸ + 60\\cdot x⁵² + 2\\cdot x⁶⁰$"
      ],
      "text/plain": [
       "LaurentPolynomial(3251250*x⁻²⁰ + 22644000*x⁻¹⁶ + 72487100*x⁻¹² + 144113280*x⁻⁸ + 202822170*x⁻⁴ + 216538624 + 181438800*x⁴ + 121326720*x⁸ + 65536580*x¹² + 28872000*x¹⁶ + 10468200*x²⁰ + 3181440*x²⁴ + 826980*x²⁸ + 188160*x³² + 38480*x³⁶ + 6528*x⁴⁰ + 1290*x⁴⁴ + 160*x⁴⁸ + 60*x⁵² + 2*x⁶⁰)"
      ]
     },
     "execution_count": 13,
     "metadata": {},
     "output_type": "execute_result"
    }
   ],
   "source": [
    "@time partition_function = solve(problem, GraphPolynomial())[]"
   ]
  }
 ],
 "metadata": {
  "kernelspec": {
   "display_name": "Julia 1.9.2",
   "language": "julia",
   "name": "julia-1.9"
  },
  "language_info": {
   "file_extension": ".jl",
   "mimetype": "application/julia",
   "name": "julia",
   "version": "1.9.2"
  }
 },
 "nbformat": 4,
 "nbformat_minor": 5
}
